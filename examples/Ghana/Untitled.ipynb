{
 "cells": [
  {
   "cell_type": "code",
   "execution_count": 7,
   "id": "44127b59",
   "metadata": {},
   "outputs": [],
   "source": [
    "import xarray as xr\n",
    "import pandas as pd\n",
    "import os\n",
    "import geopandas as gpd\n",
    "import rioxarray\n",
    "from shapely.geometry import mapping\n",
    "import numpy as np"
   ]
  },
  {
   "cell_type": "code",
   "execution_count": 18,
   "id": "f555db26",
   "metadata": {},
   "outputs": [
    {
     "name": "stdout",
     "output_type": "stream",
     "text": [
      "Requirement already satisfied: xarray in c:\\users\\dboateng\\anaconda3\\envs\\clip\\lib\\site-packages (2022.3.0)\n",
      "Requirement already satisfied: numpy>=1.18 in c:\\users\\dboateng\\anaconda3\\envs\\clip\\lib\\site-packages (from xarray) (1.22.3)\n",
      "Requirement already satisfied: pandas>=1.1 in c:\\users\\dboateng\\anaconda3\\envs\\clip\\lib\\site-packages (from xarray) (1.5.3)\n",
      "Requirement already satisfied: packaging>=20.0 in c:\\users\\dboateng\\anaconda3\\envs\\clip\\lib\\site-packages (from xarray) (21.3)\n",
      "Requirement already satisfied: pyparsing!=3.0.5,>=2.0.2 in c:\\users\\dboateng\\anaconda3\\envs\\clip\\lib\\site-packages (from packaging>=20.0->xarray) (3.0.4)\n",
      "Requirement already satisfied: python-dateutil>=2.8.1 in c:\\users\\dboateng\\anaconda3\\envs\\clip\\lib\\site-packages (from pandas>=1.1->xarray) (2.8.2)\n",
      "Requirement already satisfied: pytz>=2020.1 in c:\\users\\dboateng\\anaconda3\\envs\\clip\\lib\\site-packages (from pandas>=1.1->xarray) (2021.3)\n",
      "Requirement already satisfied: six>=1.5 in c:\\users\\dboateng\\anaconda3\\envs\\clip\\lib\\site-packages (from python-dateutil>=2.8.1->pandas>=1.1->xarray) (1.16.0)\n"
     ]
    },
    {
     "name": "stderr",
     "output_type": "stream",
     "text": [
      "WARNING: Ignoring invalid distribution -yqt5-sip (c:\\users\\dboateng\\anaconda3\\envs\\clip\\lib\\site-packages)\n",
      "WARNING: Ignoring invalid distribution -yqt5-sip (c:\\users\\dboateng\\anaconda3\\envs\\clip\\lib\\site-packages)\n",
      "WARNING: Ignoring invalid distribution -yqt5-sip (c:\\users\\dboateng\\anaconda3\\envs\\clip\\lib\\site-packages)\n",
      "WARNING: Ignoring invalid distribution -yqt5-sip (c:\\users\\dboateng\\anaconda3\\envs\\clip\\lib\\site-packages)\n",
      "WARNING: Ignoring invalid distribution -yqt5-sip (c:\\users\\dboateng\\anaconda3\\envs\\clip\\lib\\site-packages)\n",
      "WARNING: Ignoring invalid distribution -yqt5-sip (c:\\users\\dboateng\\anaconda3\\envs\\clip\\lib\\site-packages)\n",
      "WARNING: You are using pip version 22.0.4; however, version 23.0.1 is available.\n",
      "You should consider upgrading via the 'C:\\Users\\dboateng\\Anaconda3\\envs\\Clip\\python.exe -m pip install --upgrade pip' command.\n"
     ]
    }
   ],
   "source": [
    "!pip install xarray "
   ]
  },
  {
   "cell_type": "code",
   "execution_count": 14,
   "id": "0f4db48f",
   "metadata": {},
   "outputs": [],
   "source": [
    "# set paths\n",
    "import regionmask\n",
    "era_data_path=\"C:/Users/dboateng/Desktop/Datasets/ERA5/monthly_1950_2021/\"\n",
    "path_shapefile=\"C:/Users/dboateng/Desktop/Datasets/Station/Ghana/Ghana_ShapeFile\"\n",
    "\n",
    "from1979to2012 = pd.date_range(start=\"1979-01-01\", end=\"2012-12-31\", freq=\"MS\")\n",
    "# read data\n",
    "\n",
    "ghana_shape = gpd.read_file(path_shapefile)"
   ]
  },
  {
   "cell_type": "code",
   "execution_count": 4,
   "id": "9d9d5040",
   "metadata": {},
   "outputs": [
    {
     "data": {
      "text/html": [
       "<div>\n",
       "<style scoped>\n",
       "    .dataframe tbody tr th:only-of-type {\n",
       "        vertical-align: middle;\n",
       "    }\n",
       "\n",
       "    .dataframe tbody tr th {\n",
       "        vertical-align: top;\n",
       "    }\n",
       "\n",
       "    .dataframe thead th {\n",
       "        text-align: right;\n",
       "    }\n",
       "</style>\n",
       "<table border=\"1\" class=\"dataframe\">\n",
       "  <thead>\n",
       "    <tr style=\"text-align: right;\">\n",
       "      <th></th>\n",
       "      <th>ID</th>\n",
       "      <th>REGION</th>\n",
       "      <th>geometry</th>\n",
       "    </tr>\n",
       "  </thead>\n",
       "  <tbody>\n",
       "    <tr>\n",
       "      <th>0</th>\n",
       "      <td>0</td>\n",
       "      <td>WESTERN NORTH</td>\n",
       "      <td>POLYGON ((-3.08758 6.97493, -3.08594 6.97410, ...</td>\n",
       "    </tr>\n",
       "    <tr>\n",
       "      <th>1</th>\n",
       "      <td>0</td>\n",
       "      <td>WESTERN</td>\n",
       "      <td>POLYGON ((-2.18923 6.14451, -2.18797 6.14054, ...</td>\n",
       "    </tr>\n",
       "    <tr>\n",
       "      <th>2</th>\n",
       "      <td>0</td>\n",
       "      <td>VOLTA</td>\n",
       "      <td>POLYGON ((0.59492 6.99984, 0.59428 6.99960, 0....</td>\n",
       "    </tr>\n",
       "    <tr>\n",
       "      <th>3</th>\n",
       "      <td>0</td>\n",
       "      <td>UPPER WEST</td>\n",
       "      <td>POLYGON ((-2.89647 10.76039, -2.89572 10.76160...</td>\n",
       "    </tr>\n",
       "    <tr>\n",
       "      <th>4</th>\n",
       "      <td>0</td>\n",
       "      <td>UPPER EAST</td>\n",
       "      <td>POLYGON ((-0.33901 11.08862, -0.33870 11.08963...</td>\n",
       "    </tr>\n",
       "    <tr>\n",
       "      <th>5</th>\n",
       "      <td>0</td>\n",
       "      <td>SAVANNAH</td>\n",
       "      <td>POLYGON ((-0.58767 9.32212, -0.58533 9.32024, ...</td>\n",
       "    </tr>\n",
       "    <tr>\n",
       "      <th>6</th>\n",
       "      <td>0</td>\n",
       "      <td>OTI</td>\n",
       "      <td>POLYGON ((-0.05850 8.34983, -0.05817 8.34939, ...</td>\n",
       "    </tr>\n",
       "    <tr>\n",
       "      <th>7</th>\n",
       "      <td>0</td>\n",
       "      <td>NORTHERN</td>\n",
       "      <td>POLYGON ((0.08256 8.52339, 0.08375 8.52006, 0....</td>\n",
       "    </tr>\n",
       "    <tr>\n",
       "      <th>8</th>\n",
       "      <td>0</td>\n",
       "      <td>NORTH EAST</td>\n",
       "      <td>POLYGON ((-1.05819 10.15529, -1.05908 10.15677...</td>\n",
       "    </tr>\n",
       "    <tr>\n",
       "      <th>9</th>\n",
       "      <td>0</td>\n",
       "      <td>GREATER ACCRA</td>\n",
       "      <td>POLYGON ((0.02074 5.64086, 0.01695 5.63960, 0....</td>\n",
       "    </tr>\n",
       "    <tr>\n",
       "      <th>10</th>\n",
       "      <td>0</td>\n",
       "      <td>EASTERN</td>\n",
       "      <td>POLYGON ((-0.91043 6.60781, -0.91058 6.60773, ...</td>\n",
       "    </tr>\n",
       "    <tr>\n",
       "      <th>11</th>\n",
       "      <td>0</td>\n",
       "      <td>CENTRAL</td>\n",
       "      <td>POLYGON ((-0.47410 5.40386, -0.47659 5.40170, ...</td>\n",
       "    </tr>\n",
       "    <tr>\n",
       "      <th>12</th>\n",
       "      <td>0</td>\n",
       "      <td>BONO EAST</td>\n",
       "      <td>POLYGON ((-2.07744 7.64129, -2.07765 7.64234, ...</td>\n",
       "    </tr>\n",
       "    <tr>\n",
       "      <th>13</th>\n",
       "      <td>0</td>\n",
       "      <td>BONO</td>\n",
       "      <td>POLYGON ((-2.82534 7.82188, -2.82642 7.82301, ...</td>\n",
       "    </tr>\n",
       "    <tr>\n",
       "      <th>14</th>\n",
       "      <td>0</td>\n",
       "      <td>ASHANTI</td>\n",
       "      <td>POLYGON ((-0.75597 6.91299, -0.75562 6.91007, ...</td>\n",
       "    </tr>\n",
       "    <tr>\n",
       "      <th>15</th>\n",
       "      <td>0</td>\n",
       "      <td>AHAFO</td>\n",
       "      <td>POLYGON ((-2.22717 7.00488, -2.22753 7.00467, ...</td>\n",
       "    </tr>\n",
       "  </tbody>\n",
       "</table>\n",
       "</div>"
      ],
      "text/plain": [
       "    ID         REGION                                           geometry\n",
       "0    0  WESTERN NORTH  POLYGON ((-3.08758 6.97493, -3.08594 6.97410, ...\n",
       "1    0        WESTERN  POLYGON ((-2.18923 6.14451, -2.18797 6.14054, ...\n",
       "2    0          VOLTA  POLYGON ((0.59492 6.99984, 0.59428 6.99960, 0....\n",
       "3    0     UPPER WEST  POLYGON ((-2.89647 10.76039, -2.89572 10.76160...\n",
       "4    0     UPPER EAST  POLYGON ((-0.33901 11.08862, -0.33870 11.08963...\n",
       "5    0       SAVANNAH  POLYGON ((-0.58767 9.32212, -0.58533 9.32024, ...\n",
       "6    0            OTI  POLYGON ((-0.05850 8.34983, -0.05817 8.34939, ...\n",
       "7    0       NORTHERN  POLYGON ((0.08256 8.52339, 0.08375 8.52006, 0....\n",
       "8    0     NORTH EAST  POLYGON ((-1.05819 10.15529, -1.05908 10.15677...\n",
       "9    0  GREATER ACCRA  POLYGON ((0.02074 5.64086, 0.01695 5.63960, 0....\n",
       "10   0        EASTERN  POLYGON ((-0.91043 6.60781, -0.91058 6.60773, ...\n",
       "11   0        CENTRAL  POLYGON ((-0.47410 5.40386, -0.47659 5.40170, ...\n",
       "12   0      BONO EAST  POLYGON ((-2.07744 7.64129, -2.07765 7.64234, ...\n",
       "13   0           BONO  POLYGON ((-2.82534 7.82188, -2.82642 7.82301, ...\n",
       "14   0        ASHANTI  POLYGON ((-0.75597 6.91299, -0.75562 6.91007, ...\n",
       "15   0          AHAFO  POLYGON ((-2.22717 7.00488, -2.22753 7.00467, ..."
      ]
     },
     "execution_count": 4,
     "metadata": {},
     "output_type": "execute_result"
    }
   ],
   "source": [
    "ghana_shape"
   ]
  },
  {
   "cell_type": "code",
   "execution_count": 15,
   "id": "8424ad3c",
   "metadata": {},
   "outputs": [],
   "source": [
    "poly = regionmask.Regions(np.array(ghana_shape.geometry))"
   ]
  },
  {
   "cell_type": "code",
   "execution_count": 16,
   "id": "f47618ec",
   "metadata": {},
   "outputs": [
    {
     "data": {
      "text/plain": [
       "<regionmask.Regions>\n",
       "Name:     unnamed\n",
       "overlap:  False\n",
       "\n",
       "Regions:\n",
       " 0  r0  Region0\n",
       " 1  r1  Region1\n",
       " 2  r2  Region2\n",
       " 3  r3  Region3\n",
       " 4  r4  Region4\n",
       "..  ..      ...\n",
       "11 r11 Region11\n",
       "12 r12 Region12\n",
       "13 r13 Region13\n",
       "14 r14 Region14\n",
       "15 r15 Region15\n",
       "\n",
       "[16 regions]"
      ]
     },
     "execution_count": 16,
     "metadata": {},
     "output_type": "execute_result"
    }
   ],
   "source": [
    "poly"
   ]
  },
  {
   "cell_type": "code",
   "execution_count": 17,
   "id": "389cf455",
   "metadata": {},
   "outputs": [
    {
     "ename": "ValueError",
     "evalue": "found the following matches with the input file in xarray's IO backends: ['netcdf4', 'h5netcdf']. But their dependencies may not be installed, see:\nhttps://docs.xarray.dev/en/stable/user-guide/io.html \nhttps://docs.xarray.dev/en/stable/getting-started-guide/installing.html",
     "output_type": "error",
     "traceback": [
      "\u001b[1;31m---------------------------------------------------------------------------\u001b[0m",
      "\u001b[1;31mValueError\u001b[0m                                Traceback (most recent call last)",
      "Input \u001b[1;32mIn [17]\u001b[0m, in \u001b[0;36m<cell line: 1>\u001b[1;34m()\u001b[0m\n\u001b[1;32m----> 1\u001b[0m tp_monthly\u001b[38;5;241m=\u001b[39m \u001b[43mxr\u001b[49m\u001b[38;5;241;43m.\u001b[39;49m\u001b[43mopen_dataset\u001b[49m\u001b[43m(\u001b[49m\u001b[43mos\u001b[49m\u001b[38;5;241;43m.\u001b[39;49m\u001b[43mpath\u001b[49m\u001b[38;5;241;43m.\u001b[39;49m\u001b[43mjoin\u001b[49m\u001b[43m(\u001b[49m\u001b[43mera_data_path\u001b[49m\u001b[43m,\u001b[49m\u001b[43m \u001b[49m\u001b[38;5;124;43m\"\u001b[39;49m\u001b[38;5;124;43mtp_monthly.nc\u001b[39;49m\u001b[38;5;124;43m\"\u001b[39;49m\u001b[43m)\u001b[49m\u001b[43m)\u001b[49m\n\u001b[0;32m      2\u001b[0m tp_monthly \u001b[38;5;241m=\u001b[39m tp_monthly[\u001b[38;5;124m\"\u001b[39m\u001b[38;5;124mtp\u001b[39m\u001b[38;5;124m\"\u001b[39m]\u001b[38;5;241m.\u001b[39msel(time\u001b[38;5;241m=\u001b[39mfrom1979to2012)\u001b[38;5;241m.\u001b[39mmean(dim\u001b[38;5;241m=\u001b[39m\u001b[38;5;124m\"\u001b[39m\u001b[38;5;124mtime\u001b[39m\u001b[38;5;124m\"\u001b[39m)\n",
      "File \u001b[1;32m~\\Anaconda3\\envs\\clip\\lib\\site-packages\\xarray\\backends\\api.py:479\u001b[0m, in \u001b[0;36mopen_dataset\u001b[1;34m(filename_or_obj, engine, chunks, cache, decode_cf, mask_and_scale, decode_times, decode_timedelta, use_cftime, concat_characters, decode_coords, drop_variables, backend_kwargs, *args, **kwargs)\u001b[0m\n\u001b[0;32m    476\u001b[0m     kwargs\u001b[38;5;241m.\u001b[39mupdate(backend_kwargs)\n\u001b[0;32m    478\u001b[0m \u001b[38;5;28;01mif\u001b[39;00m engine \u001b[38;5;129;01mis\u001b[39;00m \u001b[38;5;28;01mNone\u001b[39;00m:\n\u001b[1;32m--> 479\u001b[0m     engine \u001b[38;5;241m=\u001b[39m \u001b[43mplugins\u001b[49m\u001b[38;5;241;43m.\u001b[39;49m\u001b[43mguess_engine\u001b[49m\u001b[43m(\u001b[49m\u001b[43mfilename_or_obj\u001b[49m\u001b[43m)\u001b[49m\n\u001b[0;32m    481\u001b[0m backend \u001b[38;5;241m=\u001b[39m plugins\u001b[38;5;241m.\u001b[39mget_backend(engine)\n\u001b[0;32m    483\u001b[0m decoders \u001b[38;5;241m=\u001b[39m _resolve_decoders_kwargs(\n\u001b[0;32m    484\u001b[0m     decode_cf,\n\u001b[0;32m    485\u001b[0m     open_backend_dataset_parameters\u001b[38;5;241m=\u001b[39mbackend\u001b[38;5;241m.\u001b[39mopen_dataset_parameters,\n\u001b[1;32m   (...)\u001b[0m\n\u001b[0;32m    491\u001b[0m     decode_coords\u001b[38;5;241m=\u001b[39mdecode_coords,\n\u001b[0;32m    492\u001b[0m )\n",
      "File \u001b[1;32m~\\Anaconda3\\envs\\clip\\lib\\site-packages\\xarray\\backends\\plugins.py:148\u001b[0m, in \u001b[0;36mguess_engine\u001b[1;34m(store_spec)\u001b[0m\n\u001b[0;32m    140\u001b[0m \u001b[38;5;28;01melse\u001b[39;00m:\n\u001b[0;32m    141\u001b[0m     error_msg \u001b[38;5;241m=\u001b[39m (\n\u001b[0;32m    142\u001b[0m         \u001b[38;5;124m\"\u001b[39m\u001b[38;5;124mfound the following matches with the input file in xarray\u001b[39m\u001b[38;5;124m'\u001b[39m\u001b[38;5;124ms IO \u001b[39m\u001b[38;5;124m\"\u001b[39m\n\u001b[0;32m    143\u001b[0m         \u001b[38;5;124mf\u001b[39m\u001b[38;5;124m\"\u001b[39m\u001b[38;5;124mbackends: \u001b[39m\u001b[38;5;132;01m{\u001b[39;00mcompatible_engines\u001b[38;5;132;01m}\u001b[39;00m\u001b[38;5;124m. But their dependencies may not be installed, see:\u001b[39m\u001b[38;5;130;01m\\n\u001b[39;00m\u001b[38;5;124m\"\u001b[39m\n\u001b[0;32m    144\u001b[0m         \u001b[38;5;124m\"\u001b[39m\u001b[38;5;124mhttps://docs.xarray.dev/en/stable/user-guide/io.html \u001b[39m\u001b[38;5;130;01m\\n\u001b[39;00m\u001b[38;5;124m\"\u001b[39m\n\u001b[0;32m    145\u001b[0m         \u001b[38;5;124m\"\u001b[39m\u001b[38;5;124mhttps://docs.xarray.dev/en/stable/getting-started-guide/installing.html\u001b[39m\u001b[38;5;124m\"\u001b[39m\n\u001b[0;32m    146\u001b[0m     )\n\u001b[1;32m--> 148\u001b[0m \u001b[38;5;28;01mraise\u001b[39;00m \u001b[38;5;167;01mValueError\u001b[39;00m(error_msg)\n",
      "\u001b[1;31mValueError\u001b[0m: found the following matches with the input file in xarray's IO backends: ['netcdf4', 'h5netcdf']. But their dependencies may not be installed, see:\nhttps://docs.xarray.dev/en/stable/user-guide/io.html \nhttps://docs.xarray.dev/en/stable/getting-started-guide/installing.html"
     ]
    }
   ],
   "source": [
    "tp_monthly= xr.open_dataset(os.path.join(era_data_path, \"tp_monthly.nc\"))\n",
    "tp_monthly = tp_monthly[\"tp\"].sel(time=from1979to2012).mean(dim=\"time\")"
   ]
  }
 ],
 "metadata": {
  "kernelspec": {
   "display_name": "Python 3 (ipykernel)",
   "language": "python",
   "name": "python3"
  },
  "language_info": {
   "codemirror_mode": {
    "name": "ipython",
    "version": 3
   },
   "file_extension": ".py",
   "mimetype": "text/x-python",
   "name": "python",
   "nbconvert_exporter": "python",
   "pygments_lexer": "ipython3",
   "version": "3.9.7"
  }
 },
 "nbformat": 4,
 "nbformat_minor": 5
}
